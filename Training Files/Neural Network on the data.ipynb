{
 "cells": [
  {
   "cell_type": "code",
   "execution_count": 76,
   "id": "c8db887a",
   "metadata": {},
   "outputs": [],
   "source": [
    "import pandas as pd\n",
    "import numpy as np\n",
    "from statistics import mean, stdev\n",
    "from matplotlib import pyplot as plt\n",
    "import os\n",
    "import seaborn as sns\n",
    "import tensorflow as tf\n",
    "from tensorflow.keras.models import Sequential\n",
    "from tensorflow.keras.layers import Dense,Activation\n",
    "from tensorflow.keras.optimizers import Adam\n",
    "import tensorflow.keras.backend as K\n",
    "from sklearn.preprocessing import MinMaxScaler\n",
    "from sklearn.metrics import mean_squared_error, r2_score\n",
    "from sklearn.model_selection import train_test_split\n",
    "from datetime import datetime"
   ]
  },
  {
   "cell_type": "code",
   "execution_count": 77,
   "id": "57560389",
   "metadata": {},
   "outputs": [],
   "source": [
    "startTime = datetime.now()"
   ]
  },
  {
   "cell_type": "code",
   "execution_count": 78,
   "id": "90c6d42a",
   "metadata": {},
   "outputs": [],
   "source": [
    "df = pd.read_csv('Datasets/TestCaseDataset.csv')"
   ]
  },
  {
   "cell_type": "code",
   "execution_count": 79,
   "id": "bc51e9eb",
   "metadata": {},
   "outputs": [
    {
     "data": {
      "text/plain": [
       "Index(['Unnamed: 0', 'TEST ID', 'TEST CASE', 'PRE-CONDITIONS', 'PRECEDENCE',\n",
       "       'COMPLEXITY', 'H', 'L', 'M', 'PRECON_COUNT', 'WEIGHTAGE'],\n",
       "      dtype='object')"
      ]
     },
     "execution_count": 79,
     "metadata": {},
     "output_type": "execute_result"
    }
   ],
   "source": [
    "df.columns"
   ]
  },
  {
   "cell_type": "code",
   "execution_count": 80,
   "id": "6943f642",
   "metadata": {},
   "outputs": [],
   "source": [
    "values = pd.DataFrame()\n",
    "values['Id'] = range(0,1)\n",
    "values['env'] = \"Data\""
   ]
  },
  {
   "cell_type": "code",
   "execution_count": 81,
   "id": "b9cc673f",
   "metadata": {},
   "outputs": [],
   "source": [
    "x = df[['H','L','M','PRECON_COUNT','COMPLEXITY']]\n",
    "y = df['WEIGHTAGE']"
   ]
  },
  {
   "cell_type": "code",
   "execution_count": 82,
   "id": "09a4b213",
   "metadata": {},
   "outputs": [],
   "source": [
    "x_train,x_test,y_train,y_test = train_test_split(x,y,test_size=0.2)"
   ]
  },
  {
   "cell_type": "code",
   "execution_count": 83,
   "id": "c73e9a5e",
   "metadata": {},
   "outputs": [],
   "source": [
    "data_scaler = MinMaxScaler()\n",
    "x_train = data_scaler.fit_transform(x_train)\n",
    "x_test = data_scaler.transform(x_test)"
   ]
  },
  {
   "cell_type": "code",
   "execution_count": 84,
   "id": "a20ab291",
   "metadata": {},
   "outputs": [],
   "source": [
    "def soft_acc(y_true, y_pred):\n",
    "    return K.mean(K.equal(K.round(y_true), K.round(y_pred)))"
   ]
  },
  {
   "cell_type": "code",
   "execution_count": 85,
   "id": "f553d301",
   "metadata": {},
   "outputs": [
    {
     "name": "stderr",
     "output_type": "stream",
     "text": [
      "C:\\Users\\LENOVO\\AppData\\Local\\Programs\\Python\\Python310\\lib\\site-packages\\keras\\optimizers\\optimizer_v2\\adam.py:110: UserWarning: The `lr` argument is deprecated, use `learning_rate` instead.\n",
      "  super(Adam, self).__init__(name, **kwargs)\n"
     ]
    }
   ],
   "source": [
    "model = Sequential()\n",
    "model.add(Dense(10,input_shape=(5,),activation='relu'))\n",
    "model.add(Dense(20,activation='relu'))\n",
    "model.add(Dense(15,activation='relu'))\n",
    "model.add(Dense(1,))\n",
    "\n",
    "model.compile(Adam(lr=0.005),loss='mean_squared_error',metrics=[soft_acc])\n"
   ]
  },
  {
   "cell_type": "code",
   "execution_count": 86,
   "id": "26c24cfe",
   "metadata": {},
   "outputs": [],
   "source": [
    "history = model.fit(x_train,y_train,epochs=10,validation_data = (x_test,y_test),validation_split=0.2,shuffle=True,verbose=0)"
   ]
  },
  {
   "cell_type": "code",
   "execution_count": 87,
   "id": "5b8bd102",
   "metadata": {},
   "outputs": [
    {
     "name": "stdout",
     "output_type": "stream",
     "text": [
      "1/1 [==============================] - 0s 341ms/step\n"
     ]
    }
   ],
   "source": [
    "y_test_pred = model.predict(x_test)"
   ]
  },
  {
   "cell_type": "code",
   "execution_count": 88,
   "id": "6cc50754",
   "metadata": {},
   "outputs": [],
   "source": [
    "Mse_list=[]\n",
    "r2_list=[]\n",
    "Mse_list.append(mean_squared_error(y_test,y_test_pred))\n",
    "r2_list.append(r2_score(y_test,y_test_pred))"
   ]
  },
  {
   "cell_type": "code",
   "execution_count": 89,
   "id": "59456e42",
   "metadata": {},
   "outputs": [
    {
     "data": {
      "text/html": [
       "<div>\n",
       "<style scoped>\n",
       "    .dataframe tbody tr th:only-of-type {\n",
       "        vertical-align: middle;\n",
       "    }\n",
       "\n",
       "    .dataframe tbody tr th {\n",
       "        vertical-align: top;\n",
       "    }\n",
       "\n",
       "    .dataframe thead th {\n",
       "        text-align: right;\n",
       "    }\n",
       "</style>\n",
       "<table border=\"1\" class=\"dataframe\">\n",
       "  <thead>\n",
       "    <tr style=\"text-align: right;\">\n",
       "      <th></th>\n",
       "      <th>Actual</th>\n",
       "      <th>Predicted</th>\n",
       "    </tr>\n",
       "  </thead>\n",
       "  <tbody>\n",
       "    <tr>\n",
       "      <th>78</th>\n",
       "      <td>4.5</td>\n",
       "      <td>6.955570</td>\n",
       "    </tr>\n",
       "    <tr>\n",
       "      <th>35</th>\n",
       "      <td>23.4</td>\n",
       "      <td>7.349953</td>\n",
       "    </tr>\n",
       "    <tr>\n",
       "      <th>14</th>\n",
       "      <td>5.0</td>\n",
       "      <td>6.352601</td>\n",
       "    </tr>\n",
       "    <tr>\n",
       "      <th>69</th>\n",
       "      <td>4.5</td>\n",
       "      <td>6.955570</td>\n",
       "    </tr>\n",
       "    <tr>\n",
       "      <th>23</th>\n",
       "      <td>3.5</td>\n",
       "      <td>8.818038</td>\n",
       "    </tr>\n",
       "  </tbody>\n",
       "</table>\n",
       "</div>"
      ],
      "text/plain": [
       "    Actual  Predicted\n",
       "78     4.5   6.955570\n",
       "35    23.4   7.349953\n",
       "14     5.0   6.352601\n",
       "69     4.5   6.955570\n",
       "23     3.5   8.818038"
      ]
     },
     "execution_count": 89,
     "metadata": {},
     "output_type": "execute_result"
    }
   ],
   "source": [
    "outcome = pd.DataFrame({'Actual':y_test,'Predicted':y_test_pred.flatten()})\n",
    "outcome.head()"
   ]
  },
  {
   "cell_type": "code",
   "execution_count": 90,
   "id": "ea8669a5",
   "metadata": {},
   "outputs": [
    {
     "data": {
      "text/plain": [
       "65.24321132187684"
      ]
     },
     "execution_count": 90,
     "metadata": {},
     "output_type": "execute_result"
    }
   ],
   "source": [
    "values['Mse_list'] = mean(Mse_list)\n",
    "mean(Mse_list)"
   ]
  },
  {
   "cell_type": "code",
   "execution_count": 91,
   "id": "abdff9c7",
   "metadata": {},
   "outputs": [
    {
     "data": {
      "text/plain": [
       "0.09151345139488987"
      ]
     },
     "execution_count": 91,
     "metadata": {},
     "output_type": "execute_result"
    }
   ],
   "source": [
    "values[\"R2_list\"] = mean(r2_list)\n",
    "mean(r2_list)"
   ]
  },
  {
   "cell_type": "code",
   "execution_count": 92,
   "id": "7d584f09",
   "metadata": {},
   "outputs": [],
   "source": [
    "    def save_figures(fig,filename):\n",
    "        fig.savefig(os.path.join('plot/', filename + '.png'), bbox_inches='tight')"
   ]
  },
  {
   "cell_type": "code",
   "execution_count": 93,
   "id": "fd0ed7e2",
   "metadata": {},
   "outputs": [],
   "source": [
    "def loss_function(information):\n",
    "    \n",
    "    history_dict=information.history\n",
    "    loss_values = history_dict['loss']\n",
    "    val_loss_values=history_dict['val_loss']\n",
    "    plt.plot(loss_values,'b--',label='training loss') # Training data loss\n",
    "    plt.plot(val_loss_values,'r',label='training loss val') # Validation data loss\n",
    "    plt.xlabel('Epochs',fontsize=22)\n",
    "    plt.ylabel('Loss',fontsize=22)\n",
    "    plt.title('Loss Curve',fontsize=22)\n",
    "    save_figures(plt, 'loss_function')\n",
    "    plt.close()\n"
   ]
  },
  {
   "cell_type": "code",
   "execution_count": 94,
   "id": "0f566254",
   "metadata": {},
   "outputs": [],
   "source": [
    "def actual_vs_prediction(y_test, y_test_pred):\n",
    "\n",
    "    outcome = pd.DataFrame({'Actual': y_test,'Predicted': y_test_pred.flatten()})\n",
    "    df_sorted = outcome.head(40).sort_values(by=\"Actual\")\n",
    "\n",
    "    df_sorted.plot(kind='bar', figsize=(12,7))\n",
    "    plt.grid(which='major', linestyle='-', linewidth = '0.5', color='green')\n",
    "    plt.grid(which='minor', linestyle=':', linewidth = '0.5', color='black')\n",
    "    plt.xlabel('Test Cases',fontsize=22)\n",
    "    plt.ylabel('Priority Values',fontsize=22)\n",
    "    plt.title(\"Comparision between 'Actual' and 'Predicted' values\",fontsize=22)\n",
    "    save_figures(plt, 'actual_vs_prediction')\n",
    "    plt.close()\n",
    "    \n",
    "    plt.plot(df_sorted['Actual'].tolist(), label='Actual')\n",
    "    plt.plot(df_sorted['Predicted'].tolist(), label='prediction')\n",
    "    plt.xlabel('Test cases',fontsize=22)\n",
    "    plt.ylabel('Priority Values',fontsize=22)\n",
    "    plt.title(\"Comparision between 'Actual' and 'Predicted' values\",fontsize=22)\n",
    "    plt.grid(which='major', linestyle='-', linewidth = '0.5', color='green')\n",
    "    plt.grid(which='minor', linestyle=':', linewidth = '0.5', color='black')\n",
    "    plt.legend()\n",
    "    save_figures(plt, 'actual_vs_prediction_2')\n",
    "    plt.close()"
   ]
  },
  {
   "cell_type": "code",
   "execution_count": 95,
   "id": "154b0eb1",
   "metadata": {},
   "outputs": [],
   "source": [
    "def regression_line(y_test, y_test_pred):\n",
    "    \n",
    "    fig, ax = plt.subplots()\n",
    "    ax.scatter(y_test, y_test_pred)\n",
    "    ax.plot([y_test.min(), y_test.max()], [y_test.min(), y_test.max()], 'k--', lw=4)\n",
    "    ax.set_xlabel('Calculated by DeepOrder algorithm',fontsize=22)\n",
    "    ax.set_ylabel('Predicted by Neural Network',fontsize=22)\n",
    "    plt.title(\"Neural Network Regression Line\",fontsize=22)\n",
    "    plt.grid(which='major', linestyle='-', linewidth = '0.5', color='green')\n",
    "    plt.grid(which='minor', linestyle=':', linewidth = '0.5', color='black')\n",
    "    save_figures(plt, 'regression_line')\n",
    "    plt.close()"
   ]
  },
  {
   "cell_type": "code",
   "execution_count": 96,
   "id": "075950aa",
   "metadata": {},
   "outputs": [],
   "source": [
    "prep_time = datetime.now()-startTime"
   ]
  },
  {
   "cell_type": "code",
   "execution_count": 97,
   "id": "93742fb0",
   "metadata": {},
   "outputs": [],
   "source": [
    "loss_function(history)\n",
    "actual_vs_prediction(y_test,y_test_pred)\n",
    "regression_line(y_test,y_test_pred)"
   ]
  },
  {
   "cell_type": "code",
   "execution_count": 98,
   "id": "6cbd09c7",
   "metadata": {},
   "outputs": [
    {
     "name": "stdout",
     "output_type": "stream",
     "text": [
      "4/4 [==============================] - 0s 5ms/step\n"
     ]
    }
   ],
   "source": [
    "start_prio_time = datetime.now()\n",
    "s = data_scaler.fit_transform(df[['H','L','M','PRECON_COUNT','COMPLEXITY']])\n",
    "A = model.predict(s)\n",
    "fitness = A.ravel()"
   ]
  },
  {
   "cell_type": "code",
   "execution_count": 99,
   "id": "1197b47b",
   "metadata": {},
   "outputs": [
    {
     "data": {
      "text/html": [
       "<div>\n",
       "<style scoped>\n",
       "    .dataframe tbody tr th:only-of-type {\n",
       "        vertical-align: middle;\n",
       "    }\n",
       "\n",
       "    .dataframe tbody tr th {\n",
       "        vertical-align: top;\n",
       "    }\n",
       "\n",
       "    .dataframe thead th {\n",
       "        text-align: right;\n",
       "    }\n",
       "</style>\n",
       "<table border=\"1\" class=\"dataframe\">\n",
       "  <thead>\n",
       "    <tr style=\"text-align: right;\">\n",
       "      <th></th>\n",
       "      <th>Unnamed: 0</th>\n",
       "      <th>TEST ID</th>\n",
       "      <th>TEST CASE</th>\n",
       "      <th>PRE-CONDITIONS</th>\n",
       "      <th>PRECEDENCE</th>\n",
       "      <th>COMPLEXITY</th>\n",
       "      <th>H</th>\n",
       "      <th>L</th>\n",
       "      <th>M</th>\n",
       "      <th>PRECON_COUNT</th>\n",
       "      <th>WEIGHTAGE</th>\n",
       "    </tr>\n",
       "  </thead>\n",
       "  <tbody>\n",
       "    <tr>\n",
       "      <th>0</th>\n",
       "      <td>0</td>\n",
       "      <td>LOAD_001</td>\n",
       "      <td>Test Page load functionality through URL</td>\n",
       "      <td>None</td>\n",
       "      <td>H</td>\n",
       "      <td>8</td>\n",
       "      <td>1</td>\n",
       "      <td>0</td>\n",
       "      <td>0</td>\n",
       "      <td>12</td>\n",
       "      <td>103.2</td>\n",
       "    </tr>\n",
       "    <tr>\n",
       "      <th>1</th>\n",
       "      <td>1</td>\n",
       "      <td>LOAD_002</td>\n",
       "      <td>Test Page Reload without crashes</td>\n",
       "      <td>None</td>\n",
       "      <td>H</td>\n",
       "      <td>3</td>\n",
       "      <td>1</td>\n",
       "      <td>0</td>\n",
       "      <td>0</td>\n",
       "      <td>0</td>\n",
       "      <td>2.7</td>\n",
       "    </tr>\n",
       "    <tr>\n",
       "      <th>2</th>\n",
       "      <td>2</td>\n",
       "      <td>LOAD_003</td>\n",
       "      <td>Test 404 Error for Invalid URL in domain</td>\n",
       "      <td>None</td>\n",
       "      <td>L</td>\n",
       "      <td>3</td>\n",
       "      <td>0</td>\n",
       "      <td>1</td>\n",
       "      <td>0</td>\n",
       "      <td>0</td>\n",
       "      <td>0.3</td>\n",
       "    </tr>\n",
       "    <tr>\n",
       "      <th>3</th>\n",
       "      <td>3</td>\n",
       "      <td>SELECT_CITY_001</td>\n",
       "      <td>Test City Choice using Icons</td>\n",
       "      <td>LOAD_001</td>\n",
       "      <td>M</td>\n",
       "      <td>6</td>\n",
       "      <td>0</td>\n",
       "      <td>0</td>\n",
       "      <td>1</td>\n",
       "      <td>1</td>\n",
       "      <td>9.0</td>\n",
       "    </tr>\n",
       "    <tr>\n",
       "      <th>4</th>\n",
       "      <td>4</td>\n",
       "      <td>SELECT_CITY_002</td>\n",
       "      <td>Test Search City using Search Bar</td>\n",
       "      <td>LOAD_001</td>\n",
       "      <td>M</td>\n",
       "      <td>5</td>\n",
       "      <td>0</td>\n",
       "      <td>0</td>\n",
       "      <td>1</td>\n",
       "      <td>1</td>\n",
       "      <td>7.5</td>\n",
       "    </tr>\n",
       "    <tr>\n",
       "      <th>...</th>\n",
       "      <td>...</td>\n",
       "      <td>...</td>\n",
       "      <td>...</td>\n",
       "      <td>...</td>\n",
       "      <td>...</td>\n",
       "      <td>...</td>\n",
       "      <td>...</td>\n",
       "      <td>...</td>\n",
       "      <td>...</td>\n",
       "      <td>...</td>\n",
       "      <td>...</td>\n",
       "    </tr>\n",
       "    <tr>\n",
       "      <th>95</th>\n",
       "      <td>95</td>\n",
       "      <td>BOOK_EVENT_003</td>\n",
       "      <td>Test Add &amp; Remove person functionality</td>\n",
       "      <td>BOOK_EVENT_001</td>\n",
       "      <td>M</td>\n",
       "      <td>4</td>\n",
       "      <td>0</td>\n",
       "      <td>0</td>\n",
       "      <td>1</td>\n",
       "      <td>2</td>\n",
       "      <td>10.0</td>\n",
       "    </tr>\n",
       "    <tr>\n",
       "      <th>96</th>\n",
       "      <td>96</td>\n",
       "      <td>BOOK_EVENT_004</td>\n",
       "      <td>Test choice of seats</td>\n",
       "      <td>BOOK_EVENT_003</td>\n",
       "      <td>H</td>\n",
       "      <td>10</td>\n",
       "      <td>1</td>\n",
       "      <td>0</td>\n",
       "      <td>0</td>\n",
       "      <td>1</td>\n",
       "      <td>19.0</td>\n",
       "    </tr>\n",
       "    <tr>\n",
       "      <th>97</th>\n",
       "      <td>97</td>\n",
       "      <td>EVENT_CONFIRM_001</td>\n",
       "      <td>Test transfer to Payment Init</td>\n",
       "      <td>BOOK_EVENT_004</td>\n",
       "      <td>H</td>\n",
       "      <td>6</td>\n",
       "      <td>1</td>\n",
       "      <td>0</td>\n",
       "      <td>0</td>\n",
       "      <td>0</td>\n",
       "      <td>5.4</td>\n",
       "    </tr>\n",
       "    <tr>\n",
       "      <th>98</th>\n",
       "      <td>98</td>\n",
       "      <td>EVENT_CONFIRM_002</td>\n",
       "      <td>Test transfer to Confirmation Page after payment</td>\n",
       "      <td>PAY_PORTAL_003</td>\n",
       "      <td>H</td>\n",
       "      <td>7</td>\n",
       "      <td>1</td>\n",
       "      <td>0</td>\n",
       "      <td>0</td>\n",
       "      <td>0</td>\n",
       "      <td>6.3</td>\n",
       "    </tr>\n",
       "    <tr>\n",
       "      <th>99</th>\n",
       "      <td>99</td>\n",
       "      <td>HELP_001</td>\n",
       "      <td>Test help link functionality</td>\n",
       "      <td>HOME_001</td>\n",
       "      <td>L</td>\n",
       "      <td>2</td>\n",
       "      <td>0</td>\n",
       "      <td>1</td>\n",
       "      <td>0</td>\n",
       "      <td>0</td>\n",
       "      <td>0.2</td>\n",
       "    </tr>\n",
       "  </tbody>\n",
       "</table>\n",
       "<p>100 rows × 11 columns</p>\n",
       "</div>"
      ],
      "text/plain": [
       "    Unnamed: 0            TEST ID  \\\n",
       "0            0           LOAD_001   \n",
       "1            1           LOAD_002   \n",
       "2            2           LOAD_003   \n",
       "3            3    SELECT_CITY_001   \n",
       "4            4    SELECT_CITY_002   \n",
       "..         ...                ...   \n",
       "95          95     BOOK_EVENT_003   \n",
       "96          96     BOOK_EVENT_004   \n",
       "97          97  EVENT_CONFIRM_001   \n",
       "98          98  EVENT_CONFIRM_002   \n",
       "99          99           HELP_001   \n",
       "\n",
       "                                           TEST CASE  PRE-CONDITIONS  \\\n",
       "0           Test Page load functionality through URL            None   \n",
       "1                   Test Page Reload without crashes            None   \n",
       "2           Test 404 Error for Invalid URL in domain            None   \n",
       "3                       Test City Choice using Icons        LOAD_001   \n",
       "4                  Test Search City using Search Bar        LOAD_001   \n",
       "..                                               ...             ...   \n",
       "95            Test Add & Remove person functionality  BOOK_EVENT_001   \n",
       "96                              Test choice of seats  BOOK_EVENT_003   \n",
       "97                     Test transfer to Payment Init  BOOK_EVENT_004   \n",
       "98  Test transfer to Confirmation Page after payment  PAY_PORTAL_003   \n",
       "99                      Test help link functionality        HOME_001   \n",
       "\n",
       "   PRECEDENCE  COMPLEXITY  H  L  M  PRECON_COUNT  WEIGHTAGE  \n",
       "0           H           8  1  0  0            12      103.2  \n",
       "1           H           3  1  0  0             0        2.7  \n",
       "2           L           3  0  1  0             0        0.3  \n",
       "3           M           6  0  0  1             1        9.0  \n",
       "4           M           5  0  0  1             1        7.5  \n",
       "..        ...         ... .. .. ..           ...        ...  \n",
       "95          M           4  0  0  1             2       10.0  \n",
       "96          H          10  1  0  0             1       19.0  \n",
       "97          H           6  1  0  0             0        5.4  \n",
       "98          H           7  1  0  0             0        6.3  \n",
       "99          L           2  0  1  0             0        0.2  \n",
       "\n",
       "[100 rows x 11 columns]"
      ]
     },
     "execution_count": 99,
     "metadata": {},
     "output_type": "execute_result"
    }
   ],
   "source": [
    "Dp_df = df.copy()\n",
    "Dp_df"
   ]
  },
  {
   "cell_type": "code",
   "execution_count": 100,
   "id": "9ef9f476",
   "metadata": {},
   "outputs": [],
   "source": [
    "Dp_df[\"Diff\"] = (fitness - Dp_df['WEIGHTAGE'])"
   ]
  },
  {
   "cell_type": "code",
   "execution_count": 101,
   "id": "ec88f4b7",
   "metadata": {},
   "outputs": [],
   "source": [
    "Dp_df.sort_values(by='Diff',axis=0,inplace=True)"
   ]
  },
  {
   "cell_type": "code",
   "execution_count": 102,
   "id": "6dd96568",
   "metadata": {},
   "outputs": [],
   "source": [
    "Dp_df = Dp_df.drop(['H','L','M'],axis=True)"
   ]
  },
  {
   "cell_type": "code",
   "execution_count": 103,
   "id": "2cb28c81",
   "metadata": {},
   "outputs": [
    {
     "data": {
      "text/html": [
       "<div>\n",
       "<style scoped>\n",
       "    .dataframe tbody tr th:only-of-type {\n",
       "        vertical-align: middle;\n",
       "    }\n",
       "\n",
       "    .dataframe tbody tr th {\n",
       "        vertical-align: top;\n",
       "    }\n",
       "\n",
       "    .dataframe thead th {\n",
       "        text-align: right;\n",
       "    }\n",
       "</style>\n",
       "<table border=\"1\" class=\"dataframe\">\n",
       "  <thead>\n",
       "    <tr style=\"text-align: right;\">\n",
       "      <th></th>\n",
       "      <th>Unnamed: 0</th>\n",
       "      <th>TEST ID</th>\n",
       "      <th>TEST CASE</th>\n",
       "      <th>PRE-CONDITIONS</th>\n",
       "      <th>PRECEDENCE</th>\n",
       "      <th>COMPLEXITY</th>\n",
       "      <th>PRECON_COUNT</th>\n",
       "      <th>WEIGHTAGE</th>\n",
       "      <th>Diff</th>\n",
       "    </tr>\n",
       "  </thead>\n",
       "  <tbody>\n",
       "    <tr>\n",
       "      <th>42</th>\n",
       "      <td>42</td>\n",
       "      <td>PAY_INIT_001</td>\n",
       "      <td>Check load of Payment page</td>\n",
       "      <td>PAY_BUTTON_002</td>\n",
       "      <td>H</td>\n",
       "      <td>9</td>\n",
       "      <td>22</td>\n",
       "      <td>206.1</td>\n",
       "      <td>-197.256012</td>\n",
       "    </tr>\n",
       "    <tr>\n",
       "      <th>6</th>\n",
       "      <td>6</td>\n",
       "      <td>HOME_001</td>\n",
       "      <td>Test load of Home Page</td>\n",
       "      <td>LOAD_001</td>\n",
       "      <td>H</td>\n",
       "      <td>9</td>\n",
       "      <td>16</td>\n",
       "      <td>152.1</td>\n",
       "      <td>-143.509007</td>\n",
       "    </tr>\n",
       "    <tr>\n",
       "      <th>0</th>\n",
       "      <td>0</td>\n",
       "      <td>LOAD_001</td>\n",
       "      <td>Test Page load functionality through URL</td>\n",
       "      <td>None</td>\n",
       "      <td>H</td>\n",
       "      <td>8</td>\n",
       "      <td>12</td>\n",
       "      <td>103.2</td>\n",
       "      <td>-95.035766</td>\n",
       "    </tr>\n",
       "    <tr>\n",
       "      <th>73</th>\n",
       "      <td>73</td>\n",
       "      <td>PAY_PORTAL_003</td>\n",
       "      <td>Test redirect to Confirmation Page</td>\n",
       "      <td>PAY_PORTAL_002</td>\n",
       "      <td>H</td>\n",
       "      <td>8</td>\n",
       "      <td>8</td>\n",
       "      <td>71.2</td>\n",
       "      <td>-63.063275</td>\n",
       "    </tr>\n",
       "    <tr>\n",
       "      <th>72</th>\n",
       "      <td>72</td>\n",
       "      <td>PAY_PORTAL_002</td>\n",
       "      <td>Test Transaction confirmation</td>\n",
       "      <td>PAY_INIT_002</td>\n",
       "      <td>H</td>\n",
       "      <td>10</td>\n",
       "      <td>6</td>\n",
       "      <td>69.0</td>\n",
       "      <td>-60.090437</td>\n",
       "    </tr>\n",
       "    <tr>\n",
       "      <th>...</th>\n",
       "      <td>...</td>\n",
       "      <td>...</td>\n",
       "      <td>...</td>\n",
       "      <td>...</td>\n",
       "      <td>...</td>\n",
       "      <td>...</td>\n",
       "      <td>...</td>\n",
       "      <td>...</td>\n",
       "      <td>...</td>\n",
       "    </tr>\n",
       "    <tr>\n",
       "      <th>61</th>\n",
       "      <td>61</td>\n",
       "      <td>VOUCHER_002</td>\n",
       "      <td>Check Apply button</td>\n",
       "      <td>PAYMENT_OPT_003</td>\n",
       "      <td>M</td>\n",
       "      <td>2</td>\n",
       "      <td>0</td>\n",
       "      <td>1.0</td>\n",
       "      <td>5.461926</td>\n",
       "    </tr>\n",
       "    <tr>\n",
       "      <th>30</th>\n",
       "      <td>30</td>\n",
       "      <td>MOVIE_DETAILS_002</td>\n",
       "      <td>Check view of Rating of a Movie</td>\n",
       "      <td>MOVIE_LOAD_001</td>\n",
       "      <td>M</td>\n",
       "      <td>2</td>\n",
       "      <td>0</td>\n",
       "      <td>1.0</td>\n",
       "      <td>5.461926</td>\n",
       "    </tr>\n",
       "    <tr>\n",
       "      <th>29</th>\n",
       "      <td>29</td>\n",
       "      <td>MOVIE_DETAILS_001</td>\n",
       "      <td>Check view of Details of a Movie</td>\n",
       "      <td>MOVIE_LOAD_001</td>\n",
       "      <td>M</td>\n",
       "      <td>2</td>\n",
       "      <td>0</td>\n",
       "      <td>1.0</td>\n",
       "      <td>5.461926</td>\n",
       "    </tr>\n",
       "    <tr>\n",
       "      <th>80</th>\n",
       "      <td>80</td>\n",
       "      <td>CONFIRM_006</td>\n",
       "      <td>Check QR code display</td>\n",
       "      <td>CONFIRM_001</td>\n",
       "      <td>M</td>\n",
       "      <td>1</td>\n",
       "      <td>0</td>\n",
       "      <td>0.5</td>\n",
       "      <td>5.490704</td>\n",
       "    </tr>\n",
       "    <tr>\n",
       "      <th>26</th>\n",
       "      <td>26</td>\n",
       "      <td>RECOMMEND_002</td>\n",
       "      <td>Test change of Recommendation after Category</td>\n",
       "      <td>CATEGORY_001</td>\n",
       "      <td>L</td>\n",
       "      <td>8</td>\n",
       "      <td>0</td>\n",
       "      <td>0.8</td>\n",
       "      <td>6.006732</td>\n",
       "    </tr>\n",
       "  </tbody>\n",
       "</table>\n",
       "<p>100 rows × 9 columns</p>\n",
       "</div>"
      ],
      "text/plain": [
       "    Unnamed: 0            TEST ID  \\\n",
       "42          42       PAY_INIT_001   \n",
       "6            6           HOME_001   \n",
       "0            0           LOAD_001   \n",
       "73          73     PAY_PORTAL_003   \n",
       "72          72     PAY_PORTAL_002   \n",
       "..         ...                ...   \n",
       "61          61        VOUCHER_002   \n",
       "30          30  MOVIE_DETAILS_002   \n",
       "29          29  MOVIE_DETAILS_001   \n",
       "80          80        CONFIRM_006   \n",
       "26          26      RECOMMEND_002   \n",
       "\n",
       "                                       TEST CASE   PRE-CONDITIONS PRECEDENCE  \\\n",
       "42                    Check load of Payment page   PAY_BUTTON_002          H   \n",
       "6                         Test load of Home Page         LOAD_001          H   \n",
       "0       Test Page load functionality through URL             None          H   \n",
       "73            Test redirect to Confirmation Page   PAY_PORTAL_002          H   \n",
       "72                 Test Transaction confirmation     PAY_INIT_002          H   \n",
       "..                                           ...              ...        ...   \n",
       "61                            Check Apply button  PAYMENT_OPT_003          M   \n",
       "30               Check view of Rating of a Movie   MOVIE_LOAD_001          M   \n",
       "29              Check view of Details of a Movie   MOVIE_LOAD_001          M   \n",
       "80                         Check QR code display      CONFIRM_001          M   \n",
       "26  Test change of Recommendation after Category     CATEGORY_001          L   \n",
       "\n",
       "    COMPLEXITY  PRECON_COUNT  WEIGHTAGE        Diff  \n",
       "42           9            22      206.1 -197.256012  \n",
       "6            9            16      152.1 -143.509007  \n",
       "0            8            12      103.2  -95.035766  \n",
       "73           8             8       71.2  -63.063275  \n",
       "72          10             6       69.0  -60.090437  \n",
       "..         ...           ...        ...         ...  \n",
       "61           2             0        1.0    5.461926  \n",
       "30           2             0        1.0    5.461926  \n",
       "29           2             0        1.0    5.461926  \n",
       "80           1             0        0.5    5.490704  \n",
       "26           8             0        0.8    6.006732  \n",
       "\n",
       "[100 rows x 9 columns]"
      ]
     },
     "execution_count": 103,
     "metadata": {},
     "output_type": "execute_result"
    }
   ],
   "source": [
    "Dp_df"
   ]
  },
  {
   "cell_type": "code",
   "execution_count": 104,
   "id": "99f729f5",
   "metadata": {},
   "outputs": [],
   "source": [
    "Dp_df.to_csv(\"Results/DeepNN.csv\")"
   ]
  },
  {
   "cell_type": "code",
   "execution_count": 105,
   "id": "0e6ccef3",
   "metadata": {},
   "outputs": [],
   "source": [
    "from tensorflow.keras.models import load_model\n",
    "\n",
    "model.save(\"Results/DeepNN.h5\")"
   ]
  }
 ],
 "metadata": {
  "kernelspec": {
   "display_name": "Python 3 (ipykernel)",
   "language": "python",
   "name": "python3"
  },
  "language_info": {
   "codemirror_mode": {
    "name": "ipython",
    "version": 3
   },
   "file_extension": ".py",
   "mimetype": "text/x-python",
   "name": "python",
   "nbconvert_exporter": "python",
   "pygments_lexer": "ipython3",
   "version": "3.10.5"
  }
 },
 "nbformat": 4,
 "nbformat_minor": 5
}
